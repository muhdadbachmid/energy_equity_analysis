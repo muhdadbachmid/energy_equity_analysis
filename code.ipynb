# Install library yang diperlukan (jika belum terinstall)
!pip install pandas numpy matplotlib seaborn

# Import library
import pandas as pd
import numpy as np
import matplotlib.pyplot as plt
import seaborn as sns

# Mengunduh dataset
data = "/content/global-data-on-sustainable-energy.csv"
df = pd.read_csv(data)

# Menampilkan beberapa baris pertama dataset
df.head()

df.info()

df.describe()

df['gdp_growth'].unique()

plt.figure(figsize=(10, 6))
sns.histplot(data=df, x='Access to electricity (% of population)', bins=20)
plt.title('Distribution of Access to Electricity')
plt.xlabel('Access to Electricity (% of population)')
plt.ylabel('Frequency')
plt.show()

# Scatter plot: Access to electricity (% of population) vs gdp_per_capita
plt.figure(figsize=(10, 6))
sns.scatterplot(data=df, x='Access to electricity (% of population)', y='gdp_per_capita')
plt.title('Access to electricity (% of population) vs GDP per Capita')
plt.xlabel('Access to electricity (% of population)')
plt.ylabel('GDP per Capita')
plt.show()

# Membuat kolom baru untuk menghitung GDP Growth per Capita
df['gdp_growth_per_capita'] = df['gdp_growth'] * df['gdp_per_capita']

# Box plot pertumbuhan
plt.figure(figsize=(10, 6))
sns.boxplot(data=df, x='Entity', y='gdp_growth_per_capita')
plt.title('GDP Growth per Capita by Entity')
plt.xlabel('Entity')
plt.ylabel('GDP Growth per Capita')
plt.xticks(rotation=45)
plt.show()

# Analisis Kesetaraan Energi
# Menghitung rata-rata Konsumsi energi primer per kapita (kWh/orang) berdasarkan region
avg_energy_com = df.groupby('Entity')[r"Primary energy consumption per capita (kWh/person)"].mean()

# Menampilkan dalam bar plot
plt.figure(figsize=(12, 6))
avg_energy_com.plot(kind='bar')
plt.title('Primary energy consumption per capita (kWh/person) by Entity')
plt.xlabel('Region')
plt.ylabel('Average Primary energy consumption per capita (kWh/person)')
plt.xticks(rotation=45)
plt.show()

# Membuat scatter plot kedensitasan energi vs GDP per capita
plt.figure(figsize=(10, 6))
sns.scatterplot(data=df, x=r"Density\n(P/Km2)", y='gdp_per_capita')
plt.title('Energy Density vs GDP per Capita')
plt.xlabel('Energy Density')
plt.ylabel('GDP per Capita')
plt.show()

